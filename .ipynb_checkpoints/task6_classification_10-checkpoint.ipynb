{
 "cells": [
  {
   "cell_type": "markdown",
   "metadata": {
    "id": "r-Mb7bnoaRLM"
   },
   "source": [
    "# Логичтическая регрессия, метод опорных векторов, one-hot кодирование"
   ]
  },
  {
   "cell_type": "markdown",
   "metadata": {
    "id": "pNyXo3CvaRLP"
   },
   "source": [
    "### О задании\n",
    "\n",
    "В этом задании вы изучите методы работы с категориальными переменными"
   ]
  },
  {
   "cell_type": "code",
   "execution_count": 1,
   "metadata": {
    "id": "ndj090dOaRLQ",
    "outputId": "fdef6337-1efe-4945-d445-fb17c46dcc4d"
   },
   "outputs": [
    {
     "name": "stdout",
     "output_type": "stream",
     "text": [
      "Populating the interactive namespace from numpy and matplotlib\n"
     ]
    }
   ],
   "source": [
    "%pylab inline\n",
    "import pandas as pd\n",
    "\n",
    "from sklearn.base import BaseEstimator\n",
    "from sklearn.datasets import load_diabetes\n",
    "from sklearn.model_selection import train_test_split"
   ]
  },
  {
   "cell_type": "markdown",
   "metadata": {
    "id": "1_wS0x7RaRLR"
   },
   "source": [
    "__Задание 1.__ Обучение логистической регрессии на реальных данных и оценка качества классификации.\n",
    "\n",
    "**(2 балла)**\n"
   ]
  },
  {
   "cell_type": "markdown",
   "metadata": {
    "id": "94eHa5RgaRLS"
   },
   "source": [
    "Загрузим данные с конкурса [Kaggle Porto Seguro’s Safe Driver Prediction](https://www.kaggle.com/c/porto-seguro-safe-driver-prediction) (вам нужна только обучающая выборка). Задача состоит в определении водителей, которые в ближайший год воспользуются своей автомобильной страховкой (бинарная классификация). Но для нас важна будет не сама задача, а только её данные. При этом под нужды задания мы немного модифицируем датасет."
   ]
  },
  {
   "cell_type": "code",
   "execution_count": 2,
   "metadata": {
    "id": "BJQn-94DaRLS"
   },
   "outputs": [],
   "source": [
    "import pandas as pd\n",
    "data = pd.read_csv('train.csv', index_col=0)\n",
    "target = data.target.values\n",
    "data = data.drop('target', axis=1)"
   ]
  },
  {
   "cell_type": "markdown",
   "metadata": {
    "id": "u2Su7GNhaRLT"
   },
   "source": [
    "Пересемплируем выборку так, чтобы положительных и отрицательных объектов в выборке было одинаковое число. Разделим на обучающую и тестовую выборки."
   ]
  },
  {
   "cell_type": "code",
   "execution_count": 3,
   "metadata": {
    "id": "fot9A7L8aRLT"
   },
   "outputs": [],
   "source": [
    "from sklearn.model_selection import train_test_split\n",
    "np.random.seed(910)\n",
    "mask_plus = np.random.choice(np.where(target == 1)[0], 100000, replace=True)\n",
    "mask_zero = np.random.choice(np.where(target == 0)[0], 100000, replace=True)"
   ]
  },
  {
   "cell_type": "markdown",
   "metadata": {
    "id": "6GB0kVSoaRLT"
   },
   "source": [
    "Не забудьте отнормировать признаки (можно воспользоваться StandardScaler или сделать это вручную). Пока не будем обращать внимание на то, что некоторые признаки категориальные (этим мы займёмся позже)."
   ]
  },
  {
   "cell_type": "code",
   "execution_count": 4,
   "metadata": {
    "id": "5dDctZhDaRLU"
   },
   "outputs": [
    {
     "name": "stderr",
     "output_type": "stream",
     "text": [
      "C:\\Users\\user\\AppData\\Local\\Temp\\ipykernel_24096\\1615652714.py:7: FutureWarning: Setting an item of incompatible dtype is deprecated and will raise in a future error of pandas. Value '[-9.90591364e-01 -9.90591364e-01  8.84892559e-04 ...  8.84892559e-04\n",
      " -9.90591364e-01  9.92361149e-01]' has dtype incompatible with int64, please explicitly cast to a compatible dtype first.\n",
      "  data[:] = scaler.fit_transform(data).astype('float64')\n",
      "C:\\Users\\user\\AppData\\Local\\Temp\\ipykernel_24096\\1615652714.py:7: FutureWarning: Setting an item of incompatible dtype is deprecated and will raise in a future error of pandas. Value '[ 0.93925278 -0.54350479 -0.54350479 ... -0.54350479  0.93925278\n",
      " -0.54350479]' has dtype incompatible with int64, please explicitly cast to a compatible dtype first.\n",
      "  data[:] = scaler.fit_transform(data).astype('float64')\n",
      "C:\\Users\\user\\AppData\\Local\\Temp\\ipykernel_24096\\1615652714.py:7: FutureWarning: Setting an item of incompatible dtype is deprecated and will raise in a future error of pandas. Value '[-1.63689813  0.55348401 -0.54170706 ...  0.55348401 -1.27183444\n",
      " -0.17664337]' has dtype incompatible with int64, please explicitly cast to a compatible dtype first.\n",
      "  data[:] = scaler.fit_transform(data).astype('float64')\n",
      "C:\\Users\\user\\AppData\\Local\\Temp\\ipykernel_24096\\1615652714.py:7: FutureWarning: Setting an item of incompatible dtype is deprecated and will raise in a future error of pandas. Value '[ 1.14862998  1.14862998  1.14862998 ... -0.86470893 -0.86470893\n",
      "  1.14862998]' has dtype incompatible with int64, please explicitly cast to a compatible dtype first.\n",
      "  data[:] = scaler.fit_transform(data).astype('float64')\n",
      "C:\\Users\\user\\AppData\\Local\\Temp\\ipykernel_24096\\1615652714.py:7: FutureWarning: Setting an item of incompatible dtype is deprecated and will raise in a future error of pandas. Value '[-0.33441297 -0.33441297 -0.33441297 ... -0.33441297 -1.00022279\n",
      " -0.33441297]' has dtype incompatible with int64, please explicitly cast to a compatible dtype first.\n",
      "  data[:] = scaler.fit_transform(data).astype('float64')\n",
      "C:\\Users\\user\\AppData\\Local\\Temp\\ipykernel_24096\\1615652714.py:7: FutureWarning: Setting an item of incompatible dtype is deprecated and will raise in a future error of pandas. Value '[ 1.35948203 -0.73557427  1.35948203 ...  1.35948203 -0.73557427\n",
      " -0.73557427]' has dtype incompatible with int64, please explicitly cast to a compatible dtype first.\n",
      "  data[:] = scaler.fit_transform(data).astype('float64')\n",
      "C:\\Users\\user\\AppData\\Local\\Temp\\ipykernel_24096\\1615652714.py:7: FutureWarning: Setting an item of incompatible dtype is deprecated and will raise in a future error of pandas. Value '[-0.6474524   1.54451509 -0.6474524  ... -0.6474524  -0.6474524\n",
      "  1.54451509]' has dtype incompatible with int64, please explicitly cast to a compatible dtype first.\n",
      "  data[:] = scaler.fit_transform(data).astype('float64')\n",
      "C:\\Users\\user\\AppData\\Local\\Temp\\ipykernel_24096\\1615652714.py:7: FutureWarning: Setting an item of incompatible dtype is deprecated and will raise in a future error of pandas. Value '[-0.46203292 -0.46203292 -0.46203292 ... -0.46203292 -0.46203292\n",
      " -0.46203292]' has dtype incompatible with int64, please explicitly cast to a compatible dtype first.\n",
      "  data[:] = scaler.fit_transform(data).astype('float64')\n",
      "C:\\Users\\user\\AppData\\Local\\Temp\\ipykernel_24096\\1615652714.py:7: FutureWarning: Setting an item of incompatible dtype is deprecated and will raise in a future error of pandas. Value '[-0.46471572 -0.46471572 -0.46471572 ... -0.46471572  2.15185318\n",
      " -0.46471572]' has dtype incompatible with int64, please explicitly cast to a compatible dtype first.\n",
      "  data[:] = scaler.fit_transform(data).astype('float64')\n",
      "C:\\Users\\user\\AppData\\Local\\Temp\\ipykernel_24096\\1615652714.py:7: FutureWarning: Setting an item of incompatible dtype is deprecated and will raise in a future error of pandas. Value '[-0.02168458 -0.02168458 -0.02168458 ... -0.02168458 -0.02168458\n",
      " -0.02168458]' has dtype incompatible with int64, please explicitly cast to a compatible dtype first.\n",
      "  data[:] = scaler.fit_transform(data).astype('float64')\n",
      "C:\\Users\\user\\AppData\\Local\\Temp\\ipykernel_24096\\1615652714.py:7: FutureWarning: Setting an item of incompatible dtype is deprecated and will raise in a future error of pandas. Value '[-0.04391711 -0.04391711 -0.04391711 ... -0.04391711 -0.04391711\n",
      " -0.04391711]' has dtype incompatible with int64, please explicitly cast to a compatible dtype first.\n",
      "  data[:] = scaler.fit_transform(data).astype('float64')\n",
      "C:\\Users\\user\\AppData\\Local\\Temp\\ipykernel_24096\\1615652714.py:7: FutureWarning: Setting an item of incompatible dtype is deprecated and will raise in a future error of pandas. Value '[-0.10868724 -0.10868724 -0.10868724 ... -0.10868724 -0.10868724\n",
      " -0.10868724]' has dtype incompatible with int64, please explicitly cast to a compatible dtype first.\n",
      "  data[:] = scaler.fit_transform(data).astype('float64')\n",
      "C:\\Users\\user\\AppData\\Local\\Temp\\ipykernel_24096\\1615652714.py:7: FutureWarning: Setting an item of incompatible dtype is deprecated and will raise in a future error of pandas. Value '[-0.03303316 -0.03303316 -0.03303316 ... -0.03303316 -0.03303316\n",
      " -0.03303316]' has dtype incompatible with int64, please explicitly cast to a compatible dtype first.\n",
      "  data[:] = scaler.fit_transform(data).astype('float64')\n",
      "C:\\Users\\user\\AppData\\Local\\Temp\\ipykernel_24096\\1615652714.py:7: FutureWarning: Setting an item of incompatible dtype is deprecated and will raise in a future error of pandas. Value '[-0.10690334 -0.10690334 -0.10690334 ... -0.10690334 -0.10690334\n",
      " -0.10690334]' has dtype incompatible with int64, please explicitly cast to a compatible dtype first.\n",
      "  data[:] = scaler.fit_transform(data).astype('float64')\n",
      "C:\\Users\\user\\AppData\\Local\\Temp\\ipykernel_24096\\1615652714.py:7: FutureWarning: Setting an item of incompatible dtype is deprecated and will raise in a future error of pandas. Value '[ 1.09430242  1.65680503 -0.0307028  ...  0.81305112 -0.0307028\n",
      " -0.3119541 ]' has dtype incompatible with int64, please explicitly cast to a compatible dtype first.\n",
      "  data[:] = scaler.fit_transform(data).astype('float64')\n",
      "C:\\Users\\user\\AppData\\Local\\Temp\\ipykernel_24096\\1615652714.py:7: FutureWarning: Setting an item of incompatible dtype is deprecated and will raise in a future error of pandas. Value '[ 0.77225193  0.77225193 -1.29491422 ... -1.29491422  0.77225193\n",
      "  0.77225193]' has dtype incompatible with int64, please explicitly cast to a compatible dtype first.\n",
      "  data[:] = scaler.fit_transform(data).astype('float64')\n",
      "C:\\Users\\user\\AppData\\Local\\Temp\\ipykernel_24096\\1615652714.py:7: FutureWarning: Setting an item of incompatible dtype is deprecated and will raise in a future error of pandas. Value '[-0.42332442 -0.42332442  2.36225445 ... -0.42332442 -0.42332442\n",
      " -0.42332442]' has dtype incompatible with int64, please explicitly cast to a compatible dtype first.\n",
      "  data[:] = scaler.fit_transform(data).astype('float64')\n",
      "C:\\Users\\user\\AppData\\Local\\Temp\\ipykernel_24096\\1615652714.py:7: FutureWarning: Setting an item of incompatible dtype is deprecated and will raise in a future error of pandas. Value '[-0.43298871 -0.43298871 -0.43298871 ... -0.43298871 -0.43298871\n",
      " -0.43298871]' has dtype incompatible with int64, please explicitly cast to a compatible dtype first.\n",
      "  data[:] = scaler.fit_transform(data).astype('float64')\n",
      "C:\\Users\\user\\AppData\\Local\\Temp\\ipykernel_24096\\1615652714.py:7: FutureWarning: Setting an item of incompatible dtype is deprecated and will raise in a future error of pandas. Value '[ 1.01365449  1.01365449  1.01365449 ... -0.54610191  1.01365449\n",
      " -1.71591921]' has dtype incompatible with int64, please explicitly cast to a compatible dtype first.\n",
      "  data[:] = scaler.fit_transform(data).astype('float64')\n",
      "C:\\Users\\user\\AppData\\Local\\Temp\\ipykernel_24096\\1615652714.py:7: FutureWarning: Setting an item of incompatible dtype is deprecated and will raise in a future error of pandas. Value '[0.50017187 0.50017187 0.50017187 ... 0.50017187 0.50017187 0.50017187]' has dtype incompatible with int64, please explicitly cast to a compatible dtype first.\n",
      "  data[:] = scaler.fit_transform(data).astype('float64')\n",
      "C:\\Users\\user\\AppData\\Local\\Temp\\ipykernel_24096\\1615652714.py:7: FutureWarning: Setting an item of incompatible dtype is deprecated and will raise in a future error of pandas. Value '[-0.6821828   1.74298958  1.74298958 ... -0.6821828   0.53040339\n",
      " -0.6821828 ]' has dtype incompatible with int64, please explicitly cast to a compatible dtype first.\n",
      "  data[:] = scaler.fit_transform(data).astype('float64')\n",
      "C:\\Users\\user\\AppData\\Local\\Temp\\ipykernel_24096\\1615652714.py:7: FutureWarning: Setting an item of incompatible dtype is deprecated and will raise in a future error of pandas. Value '[-0.37817984 -0.37817984 -0.37817984 ... -0.37817984 -0.37817984\n",
      "  3.38278698]' has dtype incompatible with int64, please explicitly cast to a compatible dtype first.\n",
      "  data[:] = scaler.fit_transform(data).astype('float64')\n",
      "C:\\Users\\user\\AppData\\Local\\Temp\\ipykernel_24096\\1615652714.py:7: FutureWarning: Setting an item of incompatible dtype is deprecated and will raise in a future error of pandas. Value '[-1.05294848  1.317476    0.13226376 ... -1.05294848  1.317476\n",
      "  1.317476  ]' has dtype incompatible with int64, please explicitly cast to a compatible dtype first.\n",
      "  data[:] = scaler.fit_transform(data).astype('float64')\n",
      "C:\\Users\\user\\AppData\\Local\\Temp\\ipykernel_24096\\1615652714.py:7: FutureWarning: Setting an item of incompatible dtype is deprecated and will raise in a future error of pandas. Value '[-1.21667833  1.31515959 -0.13160493 ...  0.77262289  0.77262289\n",
      "  0.59177733]' has dtype incompatible with int64, please explicitly cast to a compatible dtype first.\n",
      "  data[:] = scaler.fit_transform(data).astype('float64')\n",
      "C:\\Users\\user\\AppData\\Local\\Temp\\ipykernel_24096\\1615652714.py:7: FutureWarning: Setting an item of incompatible dtype is deprecated and will raise in a future error of pandas. Value '[ 0.29715729  0.29715729  0.29715729 ...  0.29715729 -4.58788777\n",
      "  0.29715729]' has dtype incompatible with int64, please explicitly cast to a compatible dtype first.\n",
      "  data[:] = scaler.fit_transform(data).astype('float64')\n",
      "C:\\Users\\user\\AppData\\Local\\Temp\\ipykernel_24096\\1615652714.py:7: FutureWarning: Setting an item of incompatible dtype is deprecated and will raise in a future error of pandas. Value '[ 0.47928049 -2.08646089  0.47928049 ...  0.47928049  0.47928049\n",
      "  0.47928049]' has dtype incompatible with int64, please explicitly cast to a compatible dtype first.\n",
      "  data[:] = scaler.fit_transform(data).astype('float64')\n",
      "C:\\Users\\user\\AppData\\Local\\Temp\\ipykernel_24096\\1615652714.py:7: FutureWarning: Setting an item of incompatible dtype is deprecated and will raise in a future error of pandas. Value '[ 0.67462694  0.67462694  0.67462694 ...  0.67462694 -1.38275841\n",
      " -1.38275841]' has dtype incompatible with int64, please explicitly cast to a compatible dtype first.\n",
      "  data[:] = scaler.fit_transform(data).astype('float64')\n",
      "C:\\Users\\user\\AppData\\Local\\Temp\\ipykernel_24096\\1615652714.py:7: FutureWarning: Setting an item of incompatible dtype is deprecated and will raise in a future error of pandas. Value '[0.08546657 0.08546657 0.08546657 ... 0.08546657 0.08546657 0.08546657]' has dtype incompatible with int64, please explicitly cast to a compatible dtype first.\n",
      "  data[:] = scaler.fit_transform(data).astype('float64')\n",
      "C:\\Users\\user\\AppData\\Local\\Temp\\ipykernel_24096\\1615652714.py:7: FutureWarning: Setting an item of incompatible dtype is deprecated and will raise in a future error of pandas. Value '[-0.92158623  0.27934756  1.24009458 ... -1.55207646  1.15002455\n",
      "  0.54955766]' has dtype incompatible with int64, please explicitly cast to a compatible dtype first.\n",
      "  data[:] = scaler.fit_transform(data).astype('float64')\n",
      "C:\\Users\\user\\AppData\\Local\\Temp\\ipykernel_24096\\1615652714.py:7: FutureWarning: Setting an item of incompatible dtype is deprecated and will raise in a future error of pandas. Value '[-1.59177474  0.78112202  0.78112202 ... -0.40532636  0.78112202\n",
      "  0.78112202]' has dtype incompatible with int64, please explicitly cast to a compatible dtype first.\n",
      "  data[:] = scaler.fit_transform(data).astype('float64')\n",
      "C:\\Users\\user\\AppData\\Local\\Temp\\ipykernel_24096\\1615652714.py:7: FutureWarning: Setting an item of incompatible dtype is deprecated and will raise in a future error of pandas. Value '[ 2.34592404  0.55770862 -0.33639908 ... -1.23050679 -1.23050679\n",
      "  0.55770862]' has dtype incompatible with int64, please explicitly cast to a compatible dtype first.\n",
      "  data[:] = scaler.fit_transform(data).astype('float64')\n",
      "C:\\Users\\user\\AppData\\Local\\Temp\\ipykernel_24096\\1615652714.py:7: FutureWarning: Setting an item of incompatible dtype is deprecated and will raise in a future error of pandas. Value '[-1.65841287 -1.65841287 -0.78058811 ...  0.09723665 -1.65841287\n",
      "  1.85288617]' has dtype incompatible with int64, please explicitly cast to a compatible dtype first.\n",
      "  data[:] = scaler.fit_transform(data).astype('float64')\n",
      "C:\\Users\\user\\AppData\\Local\\Temp\\ipykernel_24096\\1615652714.py:7: FutureWarning: Setting an item of incompatible dtype is deprecated and will raise in a future error of pandas. Value '[ 0.9868111  -1.27025324 -1.27025324 ...  0.23445632  0.23445632\n",
      " -0.51789846]' has dtype incompatible with int64, please explicitly cast to a compatible dtype first.\n",
      "  data[:] = scaler.fit_transform(data).astype('float64')\n",
      "C:\\Users\\user\\AppData\\Local\\Temp\\ipykernel_24096\\1615652714.py:7: FutureWarning: Setting an item of incompatible dtype is deprecated and will raise in a future error of pandas. Value '[-0.00505371 -0.00505371  1.40168414 ...  2.10505306  1.40168414\n",
      "  1.40168414]' has dtype incompatible with int64, please explicitly cast to a compatible dtype first.\n",
      "  data[:] = scaler.fit_transform(data).astype('float64')\n",
      "C:\\Users\\user\\AppData\\Local\\Temp\\ipykernel_24096\\1615652714.py:7: FutureWarning: Setting an item of incompatible dtype is deprecated and will raise in a future error of pandas. Value '[ 0.52769627 -0.15696113  0.52769627 ...  1.89701107 -0.84161853\n",
      " -0.15696113]' has dtype incompatible with int64, please explicitly cast to a compatible dtype first.\n",
      "  data[:] = scaler.fit_transform(data).astype('float64')\n",
      "C:\\Users\\user\\AppData\\Local\\Temp\\ipykernel_24096\\1615652714.py:7: FutureWarning: Setting an item of incompatible dtype is deprecated and will raise in a future error of pandas. Value '[-1.07243819  0.52864596 -0.27189611 ...  0.52864596  1.32918804\n",
      "  1.32918804]' has dtype incompatible with int64, please explicitly cast to a compatible dtype first.\n",
      "  data[:] = scaler.fit_transform(data).astype('float64')\n",
      "C:\\Users\\user\\AppData\\Local\\Temp\\ipykernel_24096\\1615652714.py:7: FutureWarning: Setting an item of incompatible dtype is deprecated and will raise in a future error of pandas. Value '[-0.14977802  0.19487996  0.88419593 ... -0.14977802 -0.49443601\n",
      " -1.52840996]' has dtype incompatible with int64, please explicitly cast to a compatible dtype first.\n",
      "  data[:] = scaler.fit_transform(data).astype('float64')\n",
      "C:\\Users\\user\\AppData\\Local\\Temp\\ipykernel_24096\\1615652714.py:7: FutureWarning: Setting an item of incompatible dtype is deprecated and will raise in a future error of pandas. Value '[-1.04329186 -0.18948704 -1.04329186 ... -0.18948704 -0.61638945\n",
      "  0.66431778]' has dtype incompatible with int64, please explicitly cast to a compatible dtype first.\n",
      "  data[:] = scaler.fit_transform(data).astype('float64')\n",
      "C:\\Users\\user\\AppData\\Local\\Temp\\ipykernel_24096\\1615652714.py:7: FutureWarning: Setting an item of incompatible dtype is deprecated and will raise in a future error of pandas. Value '[-0.36943038  0.46309817 -0.36943038 ... -0.36943038 -1.20195893\n",
      "  0.46309817]' has dtype incompatible with int64, please explicitly cast to a compatible dtype first.\n",
      "  data[:] = scaler.fit_transform(data).astype('float64')\n",
      "C:\\Users\\user\\AppData\\Local\\Temp\\ipykernel_24096\\1615652714.py:7: FutureWarning: Setting an item of incompatible dtype is deprecated and will raise in a future error of pandas. Value '[ 1.25609727 -1.1067533  -1.1067533  ...  1.25609727  0.66538463\n",
      " -0.51604066]' has dtype incompatible with int64, please explicitly cast to a compatible dtype first.\n",
      "  data[:] = scaler.fit_transform(data).astype('float64')\n",
      "C:\\Users\\user\\AppData\\Local\\Temp\\ipykernel_24096\\1615652714.py:7: FutureWarning: Setting an item of incompatible dtype is deprecated and will raise in a future error of pandas. Value '[ 0.53019905  0.89446059  0.16593752 ...  0.16593752 -1.29110861\n",
      "  0.53019905]' has dtype incompatible with int64, please explicitly cast to a compatible dtype first.\n",
      "  data[:] = scaler.fit_transform(data).astype('float64')\n",
      "C:\\Users\\user\\AppData\\Local\\Temp\\ipykernel_24096\\1615652714.py:7: FutureWarning: Setting an item of incompatible dtype is deprecated and will raise in a future error of pandas. Value '[-0.37511679 -0.37511679 -0.37511679 ... -0.37511679 -0.37511679\n",
      " -0.37511679]' has dtype incompatible with int64, please explicitly cast to a compatible dtype first.\n",
      "  data[:] = scaler.fit_transform(data).astype('float64')\n",
      "C:\\Users\\user\\AppData\\Local\\Temp\\ipykernel_24096\\1615652714.py:7: FutureWarning: Setting an item of incompatible dtype is deprecated and will raise in a future error of pandas. Value '[-1.3073291   0.76491834  0.76491834 ... -1.3073291  -1.3073291\n",
      "  0.76491834]' has dtype incompatible with int64, please explicitly cast to a compatible dtype first.\n",
      "  data[:] = scaler.fit_transform(data).astype('float64')\n",
      "C:\\Users\\user\\AppData\\Local\\Temp\\ipykernel_24096\\1615652714.py:7: FutureWarning: Setting an item of incompatible dtype is deprecated and will raise in a future error of pandas. Value '[ 0.89832894  0.89832894  0.89832894 ... -1.11317799  0.89832894\n",
      " -1.11317799]' has dtype incompatible with int64, please explicitly cast to a compatible dtype first.\n",
      "  data[:] = scaler.fit_transform(data).astype('float64')\n",
      "C:\\Users\\user\\AppData\\Local\\Temp\\ipykernel_24096\\1615652714.py:7: FutureWarning: Setting an item of incompatible dtype is deprecated and will raise in a future error of pandas. Value '[-0.63526992 -0.63526992 -0.63526992 ... -0.63526992 -0.63526992\n",
      " -0.63526992]' has dtype incompatible with int64, please explicitly cast to a compatible dtype first.\n",
      "  data[:] = scaler.fit_transform(data).astype('float64')\n",
      "C:\\Users\\user\\AppData\\Local\\Temp\\ipykernel_24096\\1615652714.py:7: FutureWarning: Setting an item of incompatible dtype is deprecated and will raise in a future error of pandas. Value '[ 1.37787907  1.37787907 -0.7257531  ... -0.7257531   1.37787907\n",
      " -0.7257531 ]' has dtype incompatible with int64, please explicitly cast to a compatible dtype first.\n",
      "  data[:] = scaler.fit_transform(data).astype('float64')\n",
      "C:\\Users\\user\\AppData\\Local\\Temp\\ipykernel_24096\\1615652714.py:7: FutureWarning: Setting an item of incompatible dtype is deprecated and will raise in a future error of pandas. Value '[-0.42468674 -0.42468674 -0.42468674 ... -0.42468674 -0.42468674\n",
      " -0.42468674]' has dtype incompatible with int64, please explicitly cast to a compatible dtype first.\n",
      "  data[:] = scaler.fit_transform(data).astype('float64')\n"
     ]
    }
   ],
   "source": [
    "from sklearn.preprocessing import MinMaxScaler, StandardScaler\n",
    "\n",
    "data = pd.concat((data.iloc[mask_plus], data.iloc[mask_zero]))\n",
    "target = np.hstack((target[mask_plus], target[mask_zero]))\n",
    "\n",
    "scaler = StandardScaler()\n",
    "data[:] = scaler.fit_transform(data).astype('float64')\n",
    "\n",
    "# print(data)\n",
    "\n",
    "X_train, X_test, y_train, y_test = train_test_split(data, target, test_size=0.5)"
   ]
  },
  {
   "cell_type": "markdown",
   "metadata": {
    "id": "mSrjeimpaRLU"
   },
   "source": [
    "Обучите логистическую регрессию с удобными для вас параметрами, примените регуляризацию, найдтие оптимум. Сделайте предсказание на тестовой части выборки. Замерьте качество."
   ]
  },
  {
   "cell_type": "code",
   "execution_count": 5,
   "metadata": {
    "id": "A1tEHyNFaRLU"
   },
   "outputs": [],
   "source": [
    "import numpy as np\n",
    "from sklearn.linear_model import LogisticRegression\n",
    "from sklearn.metrics import accuracy_score, classification_report, confusion_matrix"
   ]
  },
  {
   "cell_type": "code",
   "execution_count": 6,
   "metadata": {},
   "outputs": [
    {
     "name": "stdout",
     "output_type": "stream",
     "text": [
      "C=0.01 => acc = 0.5881\n",
      "C=0.1 => acc = 0.5878\n",
      "C=1 => acc = 0.5879\n",
      "C=10 => acc = 0.5879\n",
      "C=100 => acc = 0.5879\n"
     ]
    }
   ],
   "source": [
    "C_values = [0.01, 0.1, 1, 10, 100]\n",
    "\n",
    "best_accuracy = 0\n",
    "best_model = None\n",
    "best_C = None\n",
    "\n",
    "for C in C_values:\n",
    "    model = LogisticRegression(C=C, penalty='l2', solver='lbfgs', max_iter=100)\n",
    "    model.fit(X_train, y_train)\n",
    "    \n",
    "    y_pred = model.predict(X_test)\n",
    "    accuracy = accuracy_score(y_test, y_pred)\n",
    "    print(f\"C={C} => acc = {accuracy:.4f}\")\n",
    "\n",
    "    if accuracy > best_accuracy:\n",
    "        best_accuracy = accuracy\n",
    "        best_model = model\n",
    "        best_C = C"
   ]
  },
  {
   "cell_type": "code",
   "execution_count": 7,
   "metadata": {},
   "outputs": [
    {
     "name": "stdout",
     "output_type": "stream",
     "text": [
      "Best C: 0.01\n",
      " Acc: 0.5881\n",
      "              precision    recall  f1-score   support\n",
      "\n",
      "           0       0.58      0.63      0.60     49994\n",
      "           1       0.60      0.55      0.57     50006\n",
      "\n",
      "    accuracy                           0.59    100000\n",
      "   macro avg       0.59      0.59      0.59    100000\n",
      "weighted avg       0.59      0.59      0.59    100000\n",
      "\n"
     ]
    }
   ],
   "source": [
    "print(f\"Best C: {best_C}\\n Acc: {best_accuracy:.4f}\")\n",
    "print(classification_report(y_test, best_model.predict(X_test)))"
   ]
  },
  {
   "cell_type": "markdown",
   "metadata": {
    "id": "N9UQ31XFaRLU"
   },
   "source": [
    "__Выводы__ в свободной форме:\n",
    "#### Качество чуть лучше, чем угадывание рандомно"
   ]
  },
  {
   "cell_type": "markdown",
   "metadata": {
    "id": "rTUVvmreaRLV"
   },
   "source": [
    "__Задание 2.__ Изучение влияния регуляризатора на процесс обучения\n",
    "\n",
    "__(2 балла)__\n",
    "\n",
    "Проверьте на практике, как влияет регуляризатор на процесс обучения (убывание функции потерь на обучающей и отложенной выборках). Чтобы считать функцию потерь на отложенной выборке после каждой итерации, запускайте процесс обучения логистической регрессии с параметром $max\\_iter=1$ и $w^{(0)}$, полученным на предыдущей итерации. Постройте два графика: на одном из них логистическая регрессия с коэффициентом регуляризации, равным 0, а на другом с некоторым разумным значением. На каждом графике одновременно должна быть и функция потерь для обучающей, и для тестовой выборки. Не забудьте сделать одинаковыми оси обоих графиков. Какие выводы вы можете сделать?"
   ]
  },
  {
   "cell_type": "code",
   "execution_count": 32,
   "metadata": {
    "id": "k4YkmjpIaRLV"
   },
   "outputs": [],
   "source": [
    "from IPython.display import clear_output\n",
    "import warnings\n",
    "from sklearn.exceptions import ConvergenceWarning\n",
    "warnings.filterwarnings(\"ignore\", category=ConvergenceWarning)\n",
    "\n",
    "import matplotlib.pyplot as plt\n",
    "from sklearn.metrics import log_loss\n",
    "\n",
    "num_iter = 50  \n",
    "\n",
    "model_none = LogisticRegression(\n",
    "    penalty=None,  \n",
    "    max_iter=1,\n",
    "    warm_start=True,\n",
    "    random_state=42\n",
    ")\n",
    "\n",
    "model_l2 = LogisticRegression(\n",
    "    penalty='l2',\n",
    "    C=1,     \n",
    "    max_iter=1,\n",
    "    warm_start=True,\n",
    "    random_state=42\n",
    ")\n",
    "\n",
    "loss_train_none, loss_test_none = [], []\n",
    "loss_train_l2,   loss_test_l2   = [], []"
   ]
  },
  {
   "cell_type": "code",
   "execution_count": 33,
   "metadata": {},
   "outputs": [],
   "source": [
    "for i in range(num_iter):\n",
    "    print(f'Epoch {i+1}/{num_iter}')\n",
    "    \n",
    "    model_none.fit(X_train, y_train)\n",
    "    p_train_none = model_none.predict_proba(X_train)\n",
    "    p_test_none  = model_none.predict_proba(X_test)\n",
    "\n",
    "    # print(p_train_none, y_train)\n",
    "    # print(p_test_none)\n",
    "    \n",
    "    loss_train_none.append(log_loss(y_train, p_train_none))\n",
    "    loss_test_none.append(log_loss(y_test, p_test_none))\n",
    "    \n",
    "    model_l2.fit(X_train, y_train)\n",
    "    p_train_l2 = model_l2.predict_proba(X_train)\n",
    "    p_test_l2  = model_l2.predict_proba(X_test)\n",
    "    loss_train_l2.append(log_loss(y_train, p_train_l2))\n",
    "    loss_test_l2.append(log_loss(y_test, p_test_l2))\n",
    "\n",
    "clear_output()"
   ]
  },
  {
   "cell_type": "code",
   "execution_count": 35,
   "metadata": {},
   "outputs": [
    {
     "data": {
      "image/png": "[encoded data removed]",
      "text/plain": [
       "<Figure size 1400x600 with 2 Axes>"
      ]
     },
     "metadata": {},
     "output_type": "display_data"
    }
   ],
   "source": [
    "plt.figure(figsize=(14, 6))\n",
    "\n",
    "plt.subplot(1, 2, 1)\n",
    "plt.plot(range(num_iter), loss_train_none, label='Learning (train)')\n",
    "plt.plot(range(num_iter), loss_test_none, label='Test')\n",
    "plt.title('LogReg no regularization loss')\n",
    "plt.xlabel('iter')\n",
    "plt.ylabel('Log Loss')\n",
    "plt.legend()\n",
    "plt.grid()\n",
    "\n",
    "plt.subplot(1, 2, 2)\n",
    "plt.plot(range(num_iter), loss_train_l2, label='Learning (train)')\n",
    "plt.plot(range(num_iter), loss_test_l2, label='Test')\n",
    "plt.title('LogReg with L2 (C=1) loss')\n",
    "plt.xlabel('iter')\n",
    "plt.ylabel('Log Loss')\n",
    "plt.legend()\n",
    "plt.grid()\n",
    "\n",
    "plt.show()"
   ]
  },
  {
   "cell_type": "markdown",
   "metadata": {
    "id": "SP-lz7NxaRLV"
   },
   "source": [
    "__Выводы:__ разница меньше 1%"
   ]
  },
  {
   "cell_type": "markdown",
   "metadata": {
    "id": "lHvrjAQnaRLW"
   },
   "source": [
    "## Часть 2. Работа с категориальными переменными"
   ]
  },
  {
   "cell_type": "markdown",
   "metadata": {
    "id": "_doKeEKxaRLW"
   },
   "source": [
    "В этой части мы научимся обрабатывать категориальные переменные, так как закодировать их в виде чисел недостаточно (это задаёт некоторый порядок, которого на категориальных переменных может и не быть). Существует два основных способа обработки категориальных значений:\n",
    "- One-hot-кодирование\n",
    "- Счётчики (CTR, mean-target кодирование, ...) — каждый категориальный признак заменяется на среднее значение целевой переменной по всем объектам, имеющим одинаковое значение в этом признаке.\n",
    "\n",
    "Начнём с one-hot-кодирования. Допустим наш категориальный признак $f_j(x)$ принимает значения из множества $C=\\{c_1, \\dots, c_m\\}$. Заменим его на $m$ бинарных признаков $b_1(x), \\dots, b_m(x)$, каждый из которых является индикатором одного из возможных категориальных значений:\n",
    "$$\n",
    "b_i(x) = [f_j(x) = c_i]\n",
    "$$\n",
    "\n",
    "__Задание 1.__ Закодируйте все категориальные признаки с помощью one-hot-кодирования. Обучите логистическую регрессию и посмотрите, как изменилось качество модели (с тем, что было ранее). Измерьте время, потребовавшееся на обучение модели.\n",
    "\n",
    "__(3 балла)__"
   ]
  },
  {
   "cell_type": "code",
   "execution_count": 16,
   "metadata": {},
   "outputs": [],
   "source": [
    "def train_and_evaluate(X_encoded, y):\n",
    "    X_train, X_test, y_train, y_test = train_test_split(X_encoded, y, test_size=0.2, random_state=42)\n",
    "    model = LogisticRegression(max_iter=1000)\n",
    "    start_time = time.time()\n",
    "    model.fit(X_train, y_train)\n",
    "    training_time = time.time() - start_time\n",
    "    y_pred = model.predict(X_test)\n",
    "    accuracy = accuracy_score(y_test, y_pred)\n",
    "    return training_time, accuracy"
   ]
  },
  {
   "cell_type": "code",
   "execution_count": 17,
   "metadata": {
    "id": "GC4tPzPbaRLW"
   },
   "outputs": [
    {
     "name": "stdout",
     "output_type": "stream",
     "text": [
      "One-hot is done!\n",
      "Learning time: 131.1585 seconds\n",
      "Accuracy: 0.9632\n"
     ]
    }
   ],
   "source": [
    "import pandas as pd\n",
    "import time\n",
    "from sklearn.base import BaseEstimator\n",
    "from sklearn.datasets import load_diabetes\n",
    "from sklearn.model_selection import train_test_split\n",
    "from sklearn.preprocessing import OneHotEncoder\n",
    "from sklearn.linear_model import LogisticRegression\n",
    "from sklearn.metrics import accuracy_score\n",
    "\n",
    "data = pd.read_csv(\"train.csv\")\n",
    "\n",
    "X = data.drop(columns=[\"target\"])\n",
    "y = data[\"target\"]\n",
    "\n",
    "categorical_features = [col for col in X.columns if \"_cat\" in col]\n",
    "\n",
    "encoder = OneHotEncoder(drop='first', sparse_output=False, handle_unknown='ignore')\n",
    "X_encoded = encoder.fit_transform(X[categorical_features])\n",
    "X_encoded = pd.DataFrame(X_encoded, columns=encoder.get_feature_names_out())\n",
    "\n",
    "X = X.drop(columns=categorical_features)\n",
    "X = pd.concat([X, X_encoded], axis=1)\n",
    "print(\"One-hot is done!\")\n",
    "\n",
    "training_time, accuracy = train_and_evaluate(X, y)\n",
    "\n",
    "print(f\"Learning time: {training_time:.4f} seconds\")\n",
    "print(f\"Accuracy: {accuracy:.4f}\")"
   ]
  },
  {
   "cell_type": "markdown",
   "metadata": {
    "id": "izITXcOWaRLW"
   },
   "source": [
    "Как можно было заменить, one-hot-кодирование может сильно увеличивать количество признаков в датасете, что сказывается на памяти, особенно, если некоторый признак имеет большое количество значений. Эту проблему решает другой способ кодирование категориальных признаков — счётчики. Основная идея в том, что нам важны не сами категории, а значения целевой переменной, которые имеют объекты этой категории. Каждый категориальный признак мы заменим средним значением целевой переменной по всем объектам этой же категории:\n",
    "$$\n",
    "g_j(x, X) = \\frac{\\sum_{i=1}^{l} [f_j(x) = f_j(x_i)][y_i = +1]}{\\sum_{i=1}^{l} [f_j(x) = f_j(x_i)]}\n",
    "$$\n",
    "\n",
    "__Задание 2.__ Закодируйте категориальные переменные с помощью счётчиков (ровно так, как описано выше без каких-либо хитростей). Обучите логистическую регрессию и посмотрите на качество модели на тестовом множестве. Сравните время обучения с предыдущим экспериментов. Заметили ли вы что-то интересное?\n",
    "\n",
    "__(2 балла)__"
   ]
  },
  {
   "cell_type": "code",
   "execution_count": 19,
   "metadata": {
    "id": "vJmhJjcyaRLW"
   },
   "outputs": [
    {
     "name": "stdout",
     "output_type": "stream",
     "text": [
      "Mean encoding is done!\n",
      "Learning time: 35.7058 seconds\n",
      "Accuracy: 1.0000\n"
     ]
    }
   ],
   "source": [
    "import pandas as pd\n",
    "import time\n",
    "from sklearn.model_selection import train_test_split\n",
    "from sklearn.preprocessing import OneHotEncoder\n",
    "from sklearn.linear_model import LogisticRegression\n",
    "from sklearn.metrics import accuracy_score\n",
    "\n",
    "data = pd.read_csv(\"train.csv\")\n",
    "\n",
    "X = data.drop(columns=[\"target\"])\n",
    "y = data[\"target\"]\n",
    "\n",
    "categorical_features = [col for col in X.columns if \"_cat\" in col]\n",
    "\n",
    "def mean_target_encoding(df, cat_features, target):\n",
    "    encoded_df = df.copy()\n",
    "    for col in cat_features:\n",
    "        means = df.groupby(col)[target].transform('mean')\n",
    "        encoded_df[col] = means\n",
    "    return encoded_df\n",
    "\n",
    "X_encoded = mean_target_encoding(pd.concat([X, y], axis=1), categorical_features, \"target\")\n",
    "X_encoded = X_encoded.drop(columns=categorical_features)\n",
    "print(\"Mean encoding is done!\")\n",
    "\n",
    "training_time, accuracy = train_and_evaluate(X_encoded, y)\n",
    "\n",
    "print(f\"Learning time: {training_time:.4f} seconds\")\n",
    "print(f\"Accuracy: {accuracy:.4f}\")"
   ]
  },
  {
   "cell_type": "markdown",
   "metadata": {
    "id": "CZ6BybtVaRLW"
   },
   "source": [
    "__Вывод:__ точность стала явно выше (сомневаюсь, что правда 1, но в любом случае явно лучше, чем забивая на категориальные переменные)"
   ]
  },
  {
   "cell_type": "markdown",
   "metadata": {
    "id": "IUSCGlbhaRLW"
   },
   "source": [
    "Отметим, что такие признаки сами по себе являются классификаторами и, обучаясь на них, мы допускаем \"утечку\" целевой переменной в признаки. Это ведёт к переобучению, поэтому считать такие признаки необходимо таким образом, чтобы при вычислении для конкретного объекта его целевая метка не использовалась. Это можно делать следующими способами:\n",
    "- вычислять значение счётчика по всем объектам расположенным выше в датасете (например, если у нас выборка отсортирована по времени)\n",
    "- вычислять по фолдам, то есть делить выборку на некоторое количество частей и подсчитывать значение признаков по всем фолдам кроме текущего (как делается в кросс-валидации)\n",
    "- внесение некоторого шума в посчитанные признаки (необходимо соблюсти баланс между избавление от переобучения и полезностью признаков).\n",
    "\n",
    "__Задание 3.__ Реализуйте корректное вычисление счётчиков двумя из трех вышеперчисленных способов, сравните. Снова обучите логистическую регрессию, оцените качество. Сделайте выводы.\n",
    "\n",
    "__(3 балла)__"
   ]
  },
  {
   "cell_type": "code",
   "execution_count": 24,
   "metadata": {
    "id": "YX9gBIEJaRLW"
   },
   "outputs": [
    {
     "name": "stdout",
     "output_type": "stream",
     "text": [
      "KFold is done!\n",
      "Noisy is done!\n",
      "KFold method -  Learning time: 36.5480 seconds, Accuracy: 1.0000\n",
      "Noisy method - Learning time: 34.4499 seconds, Accuracy: 1.0000\n"
     ]
    }
   ],
   "source": [
    "import pandas as pd\n",
    "import time\n",
    "import numpy as np\n",
    "from sklearn.model_selection import train_test_split, KFold\n",
    "from sklearn.linear_model import LogisticRegression\n",
    "from sklearn.metrics import accuracy_score\n",
    "\n",
    "data = pd.read_csv(\"train.csv\")\n",
    "\n",
    "X = data.drop(columns=[\"target\"])\n",
    "y = data[\"target\"]\n",
    "\n",
    "categorical_features = [col for col in X.columns if \"_cat\" in col]\n",
    "\n",
    "# k-fold\n",
    "def mean_target_encoding_kfold(df, cat_features, target, n_splits=5):\n",
    "    encoded_df = df.copy()\n",
    "    kf = KFold(n_splits=n_splits, shuffle=True, random_state=42)\n",
    "    for col in cat_features:\n",
    "        encoded_df[col] = 0.0\n",
    "        for train_idx, val_idx in kf.split(df):\n",
    "            train_fold, val_fold = df.iloc[train_idx], df.iloc[val_idx]\n",
    "            means = train_fold.groupby(col)[target].mean()\n",
    "            encoded_df.loc[val_idx, col] = val_fold[col].map(means).astype(float)\n",
    "    return encoded_df\n",
    "\n",
    "# add noise\n",
    "def mean_target_encoding_noisy(df, cat_features, target, noise_level=0.01):\n",
    "    encoded_df = df.copy()\n",
    "    for col in cat_features:\n",
    "        means = df.groupby(col)[target].transform('mean')\n",
    "        noise = np.random.normal(0, noise_level, size=means.shape)\n",
    "        encoded_df[col] = means + noise\n",
    "    return encoded_df\n",
    "\n",
    "X_kfold = mean_target_encoding_kfold(pd.concat([X, y], axis=1), categorical_features, \"target\")\n",
    "print(\"KFold is done!\")\n",
    "X_noisy = mean_target_encoding_noisy(pd.concat([X, y], axis=1), categorical_features, \"target\")\n",
    "print(\"Noisy is done!\")\n",
    "\n",
    "X_kfold = X_kfold.drop(columns=categorical_features)\n",
    "X_noisy = X_noisy.drop(columns=categorical_features)\n",
    "\n",
    "\n",
    "training_time_kfold, accuracy_kfold = train_and_evaluate(X_kfold, y)\n",
    "training_time_noisy, accuracy_noisy = train_and_evaluate(X_noisy, y)\n",
    "\n",
    "print(f\"KFold method -  Learning time: {training_time_kfold:.4f} seconds, Accuracy: {accuracy_kfold:.4f}\")\n",
    "print(f\"Noisy method - Learning time: {training_time_noisy:.4f} seconds, Accuracy: {accuracy_noisy:.4f}\")"
   ]
  },
  {
   "cell_type": "markdown",
   "metadata": {
    "id": "CIXbvzlWaRLX"
   },
   "source": [
    "__Вывод:__ точность особо не поменялась, но подозреваю, что она была бы выше"
   ]
  }
 ],
 "metadata": {
  "colab": {
   "provenance": []
  },
  "kernelspec": {
   "display_name": "Python 3 (ipykernel)",
   "language": "python",
   "name": "python3"
  },
  "language_info": {
   "codemirror_mode": {
    "name": "ipython",
    "version": 3
   },
   "file_extension": ".py",
   "mimetype": "text/x-python",
   "name": "python",
   "nbconvert_exporter": "python",
   "pygments_lexer": "ipython3",
   "version": "3.9.21"
  }
 },
 "nbformat": 4,
 "nbformat_minor": 4
}
