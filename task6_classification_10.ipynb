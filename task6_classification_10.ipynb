{
 "cells": [
  {
   "cell_type": "markdown",
   "metadata": {
    "id": "r-Mb7bnoaRLM"
   },
   "source": [
    "# Логичтическая регрессия, метод опорных векторов, one-hot кодирование"
   ]
  },
  {
   "cell_type": "markdown",
   "metadata": {
    "id": "pNyXo3CvaRLP"
   },
   "source": [
    "### О задании\n",
    "\n",
    "В этом задании вы изучите методы работы с категориальными переменными"
   ]
  },
  {
   "cell_type": "code",
   "execution_count": 1,
   "metadata": {
    "id": "ndj090dOaRLQ",
    "outputId": "fdef6337-1efe-4945-d445-fb17c46dcc4d"
   },
   "outputs": [
    {
     "name": "stdout",
     "output_type": "stream",
     "text": [
      "%pylab is deprecated, use %matplotlib inline and import the required libraries.\n",
      "Populating the interactive namespace from numpy and matplotlib\n"
     ]
    }
   ],
   "source": [
    "%pylab inline\n",
    "import pandas as pd\n",
    "\n",
    "from sklearn.base import BaseEstimator\n",
    "from sklearn.datasets import load_diabetes\n",
    "from sklearn.model_selection import train_test_split"
   ]
  },
  {
   "cell_type": "markdown",
   "metadata": {
    "id": "1_wS0x7RaRLR"
   },
   "source": [
    "__Задание 1.__ Обучение логистической регрессии на реальных данных и оценка качества классификации.\n",
    "\n",
    "**(2 балла)**\n"
   ]
  },
  {
   "cell_type": "markdown",
   "metadata": {
    "id": "94eHa5RgaRLS"
   },
   "source": [
    "Загрузим данные с конкурса [Kaggle Porto Seguro’s Safe Driver Prediction](https://www.kaggle.com/c/porto-seguro-safe-driver-prediction) (вам нужна только обучающая выборка). Задача состоит в определении водителей, которые в ближайший год воспользуются своей автомобильной страховкой (бинарная классификация). Но для нас важна будет не сама задача, а только её данные. При этом под нужды задания мы немного модифицируем датасет."
   ]
  },
  {
   "cell_type": "code",
   "execution_count": 2,
   "metadata": {
    "id": "BJQn-94DaRLS"
   },
   "outputs": [],
   "source": [
    "import pandas as pd\n",
    "data = pd.read_csv('train.csv', index_col=0)\n",
    "target = data.target.values\n",
    "data = data.drop('target', axis=1)"
   ]
  },
  {
   "cell_type": "markdown",
   "metadata": {
    "id": "u2Su7GNhaRLT"
   },
   "source": [
    "Пересемплируем выборку так, чтобы положительных и отрицательных объектов в выборке было одинаковое число. Разделим на обучающую и тестовую выборки."
   ]
  },
  {
   "cell_type": "code",
   "execution_count": 3,
   "metadata": {
    "id": "fot9A7L8aRLT"
   },
   "outputs": [],
   "source": [
    "from sklearn.model_selection import train_test_split\n",
    "np.random.seed(910)\n",
    "mask_plus = np.random.choice(np.where(target == 1)[0], 100000, replace=True)\n",
    "mask_zero = np.random.choice(np.where(target == 0)[0], 100000, replace=True)"
   ]
  },
  {
   "cell_type": "markdown",
   "metadata": {
    "id": "6GB0kVSoaRLT"
   },
   "source": [
    "Не забудьте отнормировать признаки (можно воспользоваться StandardScaler или сделать это вручную). Пока не будем обращать внимание на то, что некоторые признаки категориальные (этим мы займёмся позже)."
   ]
  },
  {
   "cell_type": "code",
   "execution_count": 4,
   "metadata": {
    "id": "5dDctZhDaRLU"
   },
   "outputs": [],
   "source": [
    "from sklearn.preprocessing import MinMaxScaler, StandardScaler\n",
    "from IPython.display import clear_output\n",
    "\n",
    "data = pd.concat((data.iloc[mask_plus], data.iloc[mask_zero]))\n",
    "target = np.hstack((target[mask_plus], target[mask_zero]))\n",
    "\n",
    "scaler = StandardScaler()\n",
    "data = data.convert_dtypes()\n",
    "# print(data)\n",
    "data[:] = scaler.fit_transform(data)\n",
    "data = data.convert_dtypes()\n",
    "clear_output()\n",
    "\n",
    "# print(data)\n",
    "\n",
    "X_train, X_test, y_train, y_test = train_test_split(data, target, test_size=0.8)"
   ]
  },
  {
   "cell_type": "markdown",
   "metadata": {
    "id": "mSrjeimpaRLU"
   },
   "source": [
    "Обучите логистическую регрессию с удобными для вас параметрами, примените регуляризацию, найдтие оптимум. Сделайте предсказание на тестовой части выборки. Замерьте качество."
   ]
  },
  {
   "cell_type": "code",
   "execution_count": 17,
   "metadata": {},
   "outputs": [
    {
     "name": "stdout",
     "output_type": "stream",
     "text": [
      "C=1000.0000 => acc = 0.5890\n"
     ]
    }
   ],
   "source": [
    "import matplotlib.pyplot as plt\n",
    "import numpy as np\n",
    "from sklearn.linear_model import LogisticRegression\n",
    "from sklearn.metrics import accuracy_score, classification_report, confusion_matrix\n",
    "\n",
    "C_values = np.logspace(-6, 3, 500)\n",
    "\n",
    "best_accuracy = 0\n",
    "best_model = None\n",
    "best_C = None\n",
    "\n",
    "best_accuracy = 0\n",
    "best_model = None\n",
    "best_C = None\n",
    "accuracies = []\n",
    "\n",
    "for (i, C) in enumerate(C_values):\n",
    "    if (i+1) % 50 == 0:\n",
    "        clear_output()\n",
    "    model = LogisticRegression(C=C, penalty='l2', solver='lbfgs', max_iter=100)\n",
    "    model.fit(X_train, y_train)\n",
    "    \n",
    "    y_pred = model.predict(X_test)\n",
    "    accuracy = accuracy_score(y_test, y_pred)\n",
    "    print(f\"C={C:.4f} => acc = {accuracy:.4f}\")\n",
    "    \n",
    "    accuracies.append(accuracy)\n",
    "    \n",
    "    if accuracy > best_accuracy:\n",
    "        best_accuracy = accuracy\n",
    "        best_model = model\n",
    "        best_C = C"
   ]
  },
  {
   "cell_type": "code",
   "execution_count": 19,
   "metadata": {},
   "outputs": [
    {
     "data": {
      "image/png": "[encoded data removed]",
      "text/plain": [
       "<Figure size 640x480 with 1 Axes>"
      ]
     },
     "metadata": {},
     "output_type": "display_data"
    },
    {
     "name": "stdout",
     "output_type": "stream",
     "text": [
      "Best C: 0.00016536244070941805, Best accuracy: 0.5896\n",
      "              precision    recall  f1-score   support\n",
      "\n",
      "           0       0.58      0.64      0.61     79878\n",
      "           1       0.60      0.54      0.57     80122\n",
      "\n",
      "    accuracy                           0.59    160000\n",
      "   macro avg       0.59      0.59      0.59    160000\n",
      "weighted avg       0.59      0.59      0.59    160000\n",
      "\n"
     ]
    }
   ],
   "source": [
    "plt.plot(C_values, accuracies, linestyle='-', marker='', color='b')\n",
    "plt.xscale('log')\n",
    "plt.xlabel('C')\n",
    "plt.ylabel('Accuracy (Log scale)')\n",
    "plt.title('Accuracy vs C for Logistic Regression')\n",
    "plt.grid(True)\n",
    "plt.show()\n",
    "\n",
    "print(f\"Best C: {best_C}, Best accuracy: {best_accuracy:.4f}\")\n",
    "print(classification_report(y_test, best_model.predict(X_test)))"
   ]
  },
  {
   "cell_type": "markdown",
   "metadata": {
    "id": "N9UQ31XFaRLU"
   },
   "source": [
    "__Выводы__ в свободной форме:\n",
    "#### Качество чуть лучше, чем угадывание рандомно"
   ]
  },
  {
   "cell_type": "markdown",
   "metadata": {
    "id": "rTUVvmreaRLV"
   },
   "source": [
    "__Задание 2.__ Изучение влияния регуляризатора на процесс обучения\n",
    "\n",
    "__(2 балла)__\n",
    "\n",
    "Проверьте на практике, как влияет регуляризатор на процесс обучения (убывание функции потерь на обучающей и отложенной выборках). Чтобы считать функцию потерь на отложенной выборке после каждой итерации, запускайте процесс обучения логистической регрессии с параметром $max\\_iter=1$ и $w^{(0)}$, полученным на предыдущей итерации. Постройте два графика: на одном из них логистическая регрессия с коэффициентом регуляризации, равным 0, а на другом с некоторым разумным значением. На каждом графике одновременно должна быть и функция потерь для обучающей, и для тестовой выборки. Не забудьте сделать одинаковыми оси обоих графиков. Какие выводы вы можете сделать?"
   ]
  },
  {
   "cell_type": "code",
   "execution_count": 25,
   "metadata": {
    "id": "k4YkmjpIaRLV"
   },
   "outputs": [],
   "source": [
    "from IPython.display import clear_output\n",
    "import warnings\n",
    "from sklearn.exceptions import ConvergenceWarning\n",
    "warnings.filterwarnings(\"ignore\", category=ConvergenceWarning)\n",
    "\n",
    "import matplotlib.pyplot as plt\n",
    "from sklearn.metrics import log_loss\n",
    "\n",
    "num_iter = 50  \n",
    "\n",
    "model_none = LogisticRegression(\n",
    "    penalty='l2',\n",
    "    C=1e100,\n",
    "    max_iter=1,\n",
    "    warm_start=True,\n",
    "    random_state=42\n",
    ")\n",
    "\n",
    "model_l2 = LogisticRegression(\n",
    "    penalty='l2',\n",
    "    C=0.00016384865797255623,     \n",
    "    max_iter=1,\n",
    "    warm_start=True,\n",
    "    random_state=42\n",
    ")\n",
    "\n",
    "loss_train_none, loss_test_none = [], []\n",
    "loss_train_l2,   loss_test_l2   = [], []"
   ]
  },
  {
   "cell_type": "code",
   "execution_count": 26,
   "metadata": {},
   "outputs": [],
   "source": [
    "for i in range(num_iter):\n",
    "    print(f'Epoch {i+1}/{num_iter}')\n",
    "    \n",
    "    model_none.fit(X_train, y_train)\n",
    "    p_train_none = model_none.predict_proba(X_train)\n",
    "    p_test_none  = model_none.predict_proba(X_test)\n",
    "\n",
    "    # print(p_train_none, y_train)\n",
    "    # print(p_test_none)\n",
    "    \n",
    "    loss_train_none.append(log_loss(y_train, p_train_none))\n",
    "    loss_test_none.append(log_loss(y_test, p_test_none))\n",
    "    \n",
    "    model_l2.fit(X_train, y_train)\n",
    "    p_train_l2 = model_l2.predict_proba(X_train)\n",
    "    p_test_l2  = model_l2.predict_proba(X_test)\n",
    "    loss_train_l2.append(log_loss(y_train, p_train_l2))\n",
    "    loss_test_l2.append(log_loss(y_test, p_test_l2))\n",
    "\n",
    "clear_output()"
   ]
  },
  {
   "cell_type": "code",
   "execution_count": 27,
   "metadata": {},
   "outputs": [
    {
     "data": {
      "image/png": "[encoded data removed]",
      "text/plain": [
       "<Figure size 1400x600 with 2 Axes>"
      ]
     },
     "metadata": {},
     "output_type": "display_data"
    }
   ],
   "source": [
    "plt.figure(figsize=(14, 6))\n",
    "\n",
    "plt.subplot(1, 2, 1)\n",
    "plt.plot(range(num_iter), loss_train_none, label='Learning (train)')\n",
    "plt.plot(range(num_iter), loss_test_none, label='Test')\n",
    "plt.title('LogReg no regularization loss')\n",
    "plt.xlabel('iter')\n",
    "plt.ylabel('Log Loss')\n",
    "plt.legend()\n",
    "plt.grid()\n",
    "\n",
    "plt.subplot(1, 2, 2)\n",
    "plt.plot(range(num_iter), loss_train_l2, label='Learning (train)')\n",
    "plt.plot(range(num_iter), loss_test_l2, label='Test')\n",
    "plt.title('LogReg with L2 (C=0.00016384865797255623) loss')\n",
    "plt.xlabel('iter')\n",
    "plt.ylabel('Log Loss')\n",
    "plt.legend()\n",
    "plt.grid()\n",
    "\n",
    "plt.show()"
   ]
  },
  {
   "cell_type": "markdown",
   "metadata": {
    "id": "SP-lz7NxaRLV"
   },
   "source": [
    "__Выводы:__ разница меньше 1%"
   ]
  },
  {
   "cell_type": "markdown",
   "metadata": {
    "id": "lHvrjAQnaRLW"
   },
   "source": [
    "## Часть 2. Работа с категориальными переменными"
   ]
  },
  {
   "cell_type": "markdown",
   "metadata": {
    "id": "_doKeEKxaRLW"
   },
   "source": [
    "В этой части мы научимся обрабатывать категориальные переменные, так как закодировать их в виде чисел недостаточно (это задаёт некоторый порядок, которого на категориальных переменных может и не быть). Существует два основных способа обработки категориальных значений:\n",
    "- One-hot-кодирование\n",
    "- Счётчики (CTR, mean-target кодирование, ...) — каждый категориальный признак заменяется на среднее значение целевой переменной по всем объектам, имеющим одинаковое значение в этом признаке.\n",
    "\n",
    "Начнём с one-hot-кодирования. Допустим наш категориальный признак $f_j(x)$ принимает значения из множества $C=\\{c_1, \\dots, c_m\\}$. Заменим его на $m$ бинарных признаков $b_1(x), \\dots, b_m(x)$, каждый из которых является индикатором одного из возможных категориальных значений:\n",
    "$$\n",
    "b_i(x) = [f_j(x) = c_i]\n",
    "$$\n",
    "\n",
    "__Задание 1.__ Закодируйте все категориальные признаки с помощью one-hot-кодирования. Обучите логистическую регрессию и посмотрите, как изменилось качество модели (с тем, что было ранее). Измерьте время, потребовавшееся на обучение модели.\n",
    "\n",
    "__(3 балла)__"
   ]
  },
  {
   "cell_type": "code",
   "execution_count": 16,
   "metadata": {},
   "outputs": [],
   "source": [
    "def train_and_evaluate(X_encoded, y):\n",
    "    X_train, X_test, y_train, y_test = train_test_split(X_encoded, y, test_size=0.2, random_state=42)\n",
    "    model = LogisticRegression(max_iter=1000)\n",
    "    start_time = time.time()\n",
    "    model.fit(X_train, y_train)\n",
    "    training_time = time.time() - start_time\n",
    "    y_pred = model.predict(X_test)\n",
    "    accuracy = accuracy_score(y_test, y_pred)\n",
    "    return training_time, accuracy"
   ]
  },
  {
   "cell_type": "code",
   "execution_count": 17,
   "metadata": {
    "id": "GC4tPzPbaRLW"
   },
   "outputs": [
    {
     "name": "stdout",
     "output_type": "stream",
     "text": [
      "One-hot is done!\n",
      "Learning time: 131.1585 seconds\n",
      "Accuracy: 0.9632\n"
     ]
    }
   ],
   "source": [
    "import pandas as pd\n",
    "import time\n",
    "from sklearn.base import BaseEstimator\n",
    "from sklearn.datasets import load_diabetes\n",
    "from sklearn.model_selection import train_test_split\n",
    "from sklearn.preprocessing import OneHotEncoder\n",
    "from sklearn.linear_model import LogisticRegression\n",
    "from sklearn.metrics import accuracy_score\n",
    "\n",
    "data = pd.read_csv(\"train.csv\")\n",
    "\n",
    "X = data.drop(columns=[\"target\"])\n",
    "y = data[\"target\"]\n",
    "\n",
    "categorical_features = [col for col in X.columns if \"_cat\" in col]\n",
    "\n",
    "encoder = OneHotEncoder(drop='first', sparse_output=False, handle_unknown='ignore')\n",
    "X_encoded = encoder.fit_transform(X[categorical_features])\n",
    "X_encoded = pd.DataFrame(X_encoded, columns=encoder.get_feature_names_out())\n",
    "\n",
    "X = X.drop(columns=categorical_features)\n",
    "X = pd.concat([X, X_encoded], axis=1)\n",
    "print(\"One-hot is done!\")\n",
    "\n",
    "training_time, accuracy = train_and_evaluate(X, y)\n",
    "\n",
    "print(f\"Learning time: {training_time:.4f} seconds\")\n",
    "print(f\"Accuracy: {accuracy:.4f}\")"
   ]
  },
  {
   "cell_type": "markdown",
   "metadata": {
    "id": "izITXcOWaRLW"
   },
   "source": [
    "Как можно было заменить, one-hot-кодирование может сильно увеличивать количество признаков в датасете, что сказывается на памяти, особенно, если некоторый признак имеет большое количество значений. Эту проблему решает другой способ кодирование категориальных признаков — счётчики. Основная идея в том, что нам важны не сами категории, а значения целевой переменной, которые имеют объекты этой категории. Каждый категориальный признак мы заменим средним значением целевой переменной по всем объектам этой же категории:\n",
    "$$\n",
    "g_j(x, X) = \\frac{\\sum_{i=1}^{l} [f_j(x) = f_j(x_i)][y_i = +1]}{\\sum_{i=1}^{l} [f_j(x) = f_j(x_i)]}\n",
    "$$\n",
    "\n",
    "__Задание 2.__ Закодируйте категориальные переменные с помощью счётчиков (ровно так, как описано выше без каких-либо хитростей). Обучите логистическую регрессию и посмотрите на качество модели на тестовом множестве. Сравните время обучения с предыдущим экспериментов. Заметили ли вы что-то интересное?\n",
    "\n",
    "__(2 балла)__"
   ]
  },
  {
   "cell_type": "code",
   "execution_count": 19,
   "metadata": {
    "id": "vJmhJjcyaRLW"
   },
   "outputs": [
    {
     "name": "stdout",
     "output_type": "stream",
     "text": [
      "Mean encoding is done!\n",
      "Learning time: 35.7058 seconds\n",
      "Accuracy: 1.0000\n"
     ]
    }
   ],
   "source": [
    "import pandas as pd\n",
    "import time\n",
    "from sklearn.model_selection import train_test_split\n",
    "from sklearn.preprocessing import OneHotEncoder\n",
    "from sklearn.linear_model import LogisticRegression\n",
    "from sklearn.metrics import accuracy_score\n",
    "\n",
    "data = pd.read_csv(\"train.csv\")\n",
    "\n",
    "X = data.drop(columns=[\"target\"])\n",
    "y = data[\"target\"]\n",
    "\n",
    "categorical_features = [col for col in X.columns if \"_cat\" in col]\n",
    "\n",
    "def mean_target_encoding(df, cat_features, target):\n",
    "    encoded_df = df.copy()\n",
    "    for col in cat_features:\n",
    "        means = df.groupby(col)[target].transform('mean')\n",
    "        encoded_df[col] = means\n",
    "    return encoded_df\n",
    "\n",
    "X_encoded = mean_target_encoding(pd.concat([X, y], axis=1), categorical_features, \"target\")\n",
    "X_encoded = X_encoded.drop(columns=categorical_features)\n",
    "print(\"Mean encoding is done!\")\n",
    "\n",
    "training_time, accuracy = train_and_evaluate(X_encoded, y)\n",
    "\n",
    "print(f\"Learning time: {training_time:.4f} seconds\")\n",
    "print(f\"Accuracy: {accuracy:.4f}\")"
   ]
  },
  {
   "cell_type": "markdown",
   "metadata": {
    "id": "CZ6BybtVaRLW"
   },
   "source": [
    "__Вывод:__ точность стала явно выше (сомневаюсь, что правда 1, но в любом случае явно лучше, чем забивая на категориальные переменные)"
   ]
  },
  {
   "cell_type": "markdown",
   "metadata": {
    "id": "IUSCGlbhaRLW"
   },
   "source": [
    "Отметим, что такие признаки сами по себе являются классификаторами и, обучаясь на них, мы допускаем \"утечку\" целевой переменной в признаки. Это ведёт к переобучению, поэтому считать такие признаки необходимо таким образом, чтобы при вычислении для конкретного объекта его целевая метка не использовалась. Это можно делать следующими способами:\n",
    "- вычислять значение счётчика по всем объектам расположенным выше в датасете (например, если у нас выборка отсортирована по времени)\n",
    "- вычислять по фолдам, то есть делить выборку на некоторое количество частей и подсчитывать значение признаков по всем фолдам кроме текущего (как делается в кросс-валидации)\n",
    "- внесение некоторого шума в посчитанные признаки (необходимо соблюсти баланс между избавление от переобучения и полезностью признаков).\n",
    "\n",
    "__Задание 3.__ Реализуйте корректное вычисление счётчиков двумя из трех вышеперчисленных способов, сравните. Снова обучите логистическую регрессию, оцените качество. Сделайте выводы.\n",
    "\n",
    "__(3 балла)__"
   ]
  },
  {
   "cell_type": "code",
   "execution_count": 24,
   "metadata": {
    "id": "YX9gBIEJaRLW"
   },
   "outputs": [
    {
     "name": "stdout",
     "output_type": "stream",
     "text": [
      "KFold is done!\n",
      "Noisy is done!\n",
      "KFold method -  Learning time: 36.5480 seconds, Accuracy: 1.0000\n",
      "Noisy method - Learning time: 34.4499 seconds, Accuracy: 1.0000\n"
     ]
    }
   ],
   "source": [
    "import pandas as pd\n",
    "import time\n",
    "import numpy as np\n",
    "from sklearn.model_selection import train_test_split, KFold\n",
    "from sklearn.linear_model import LogisticRegression\n",
    "from sklearn.metrics import accuracy_score\n",
    "\n",
    "data = pd.read_csv(\"train.csv\")\n",
    "\n",
    "X = data.drop(columns=[\"target\"])\n",
    "y = data[\"target\"]\n",
    "\n",
    "categorical_features = [col for col in X.columns if \"_cat\" in col]\n",
    "\n",
    "# k-fold\n",
    "def mean_target_encoding_kfold(df, cat_features, target, n_splits=5):\n",
    "    encoded_df = df.copy()\n",
    "    kf = KFold(n_splits=n_splits, shuffle=True, random_state=42)\n",
    "    for col in cat_features:\n",
    "        encoded_df[col] = 0.0\n",
    "        for train_idx, val_idx in kf.split(df):\n",
    "            train_fold, val_fold = df.iloc[train_idx], df.iloc[val_idx]\n",
    "            means = train_fold.groupby(col)[target].mean()\n",
    "            encoded_df.loc[val_idx, col] = val_fold[col].map(means).astype(float)\n",
    "    return encoded_df\n",
    "\n",
    "# add noise\n",
    "def mean_target_encoding_noisy(df, cat_features, target, noise_level=0.01):\n",
    "    encoded_df = df.copy()\n",
    "    for col in cat_features:\n",
    "        means = df.groupby(col)[target].transform('mean')\n",
    "        noise = np.random.normal(0, noise_level, size=means.shape)\n",
    "        encoded_df[col] = means + noise\n",
    "    return encoded_df\n",
    "\n",
    "X_kfold = mean_target_encoding_kfold(pd.concat([X, y], axis=1), categorical_features, \"target\")\n",
    "print(\"KFold is done!\")\n",
    "X_noisy = mean_target_encoding_noisy(pd.concat([X, y], axis=1), categorical_features, \"target\")\n",
    "print(\"Noisy is done!\")\n",
    "\n",
    "X_kfold = X_kfold.drop(columns=categorical_features)\n",
    "X_noisy = X_noisy.drop(columns=categorical_features)\n",
    "\n",
    "\n",
    "training_time_kfold, accuracy_kfold = train_and_evaluate(X_kfold, y)\n",
    "training_time_noisy, accuracy_noisy = train_and_evaluate(X_noisy, y)\n",
    "\n",
    "print(f\"KFold method -  Learning time: {training_time_kfold:.4f} seconds, Accuracy: {accuracy_kfold:.4f}\")\n",
    "print(f\"Noisy method - Learning time: {training_time_noisy:.4f} seconds, Accuracy: {accuracy_noisy:.4f}\")"
   ]
  },
  {
   "cell_type": "markdown",
   "metadata": {
    "id": "CIXbvzlWaRLX"
   },
   "source": [
    "__Вывод:__ точность особо не поменялась, но подозреваю, что она была бы выше"
   ]
  }
 ],
 "metadata": {
  "colab": {
   "provenance": []
  },
  "kernelspec": {
   "display_name": "Python 3 (ipykernel)",
   "language": "python",
   "name": "python3"
  },
  "language_info": {
   "codemirror_mode": {
    "name": "ipython",
    "version": 3
   },
   "file_extension": ".py",
   "mimetype": "text/x-python",
   "name": "python",
   "nbconvert_exporter": "python",
   "pygments_lexer": "ipython3",
   "version": "3.12.7"
  }
 },
 "nbformat": 4,
 "nbformat_minor": 4
}
